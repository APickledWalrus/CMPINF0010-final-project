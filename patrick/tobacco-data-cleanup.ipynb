{
 "cells": [
  {
   "cell_type": "markdown",
   "metadata": {},
   "source": [
    "# Property Assessment Cleaning Notebook\n",
    "\n",
    "A rough (and slightly hacky) way of doing some filtering on the assessments CSV.\n",
    "This is because the raw asssessments file is **huge** (it takes several gigabytes of ram) and takes a *long* time to process here.\n",
    "Essentially, this creates a CSV containing only the necessary rows.\n",
    "\n",
    "The raw data can be obtained at: https://data.wprdc.org/dataset/property-assessments"
   ]
  },
  {
   "cell_type": "code",
   "execution_count": 1,
   "metadata": {},
   "outputs": [
    {
     "name": "stdout",
     "output_type": "stream",
     "text": [
      "2\n"
     ]
    }
   ],
   "source": [
    "import pandas as pd\n",
    "import numpy as np\n",
    "%matplotlib inline\n",
    "import matplotlib.pyplot as plt"
   ]
  },
  {
   "cell_type": "code",
   "execution_count": 2,
   "metadata": {},
   "outputs": [],
   "source": [
    "# read in data\n",
    "tobacco_data = pd.read_csv(\"tobacco_data.csv\")\n",
    "\n",
    "# Uh oh, the data is a mess! We need to do some cleanup...\n",
    "# It turns out our data has a *lot* of extraneous spaces\n",
    "# So, we can apply a lambda to every data piece to trim whitespace (if it's a string - not all entries are!)\n",
    "# Not ideal, but it'll do!\n",
    "tobacco_data = tobacco_data.applymap(lambda x: x.strip() if isinstance(x, str) else x)\n",
    "\n",
    "# filter out non pittsburgh entries\n",
    "# data set uses \"PITTSBURGH\" and \"PGH\" - #consistency\n",
    "tobacco_data = tobacco_data[tobacco_data.apply(lambda row: True if (row.City == \"PITTSBURGH\") or (row.City == \"PGH\") else False,axis=1)]"
   ]
  },
  {
   "cell_type": "code",
   "execution_count": 3,
   "metadata": {},
   "outputs": [
    {
     "name": "stderr",
     "output_type": "stream",
     "text": [
      "<ipython-input-3-ce5f64853f5a>:4: DtypeWarning: Columns (19,20,29,30,31,37,38,46,57,83) have mixed types. Specify dtype option on import or set low_memory=False.\n",
      "  clean = pd.read_csv(\"raw_assessments.csv\")\n"
     ]
    }
   ],
   "source": [
    "def clean_street(street):\n",
    "    return street.replace(\"AVENUE\", \"AVE\", 1).replace(\"STREET\", \"ST\", 1).replace(\"BOULEVARD\", \"BLVD\", 1).replace(\"HIGHWAY\", \"HWY\", 1)\n",
    "\n",
    "clean = pd.read_csv(\"raw_assessments.csv\")\n",
    "\n",
    "parcel_mappings = { }\n",
    "for index, row in clean.iterrows():\n",
    "    parcel_mappings[str(row['PROPERTYHOUSENUM']) + \" \" + row['PROPERTYADDRESS']] = row['PARID']\n",
    "\n",
    "# loop over each entry of zip/number of occurrences\n",
    "tobacco_locations = [ ]\n",
    "for index, row in tobacco_data.iterrows():\n",
    "    # First, we need to convert the zip code to a neighborhood\n",
    "    street = row['Street1']\n",
    "    street = clean_street(street)\n",
    "    if street in parcel_mappings:\n",
    "        tobacco_locations.append(street)\n",
    "        continue\n",
    "    else: # use backup street 2\n",
    "        street = row['Street2']\n",
    "        if street: # string is not empty\n",
    "            street = clean_street(street)\n",
    "            if street in parcel_mappings:\n",
    "                tobacco_locations.append(street)\n",
    "                continue\n",
    "\n",
    "# not the best, but use a lambda to get the useful (matching) entries\n",
    "clean = clean[clean.apply(lambda row: True if (str(row['PROPERTYHOUSENUM']) + \" \" + row['PROPERTYADDRESS']) in tobacco_locations else False,axis=1)]\n",
    "\n",
    "# output to zip file (see https://pandas.pydata.org/docs/reference/api/pandas.DataFrame.to_csv.html)\n",
    "compression_opts = dict(method='zip',\n",
    "                        archive_name='clean_assessments.csv')\n",
    "clean.to_csv('clean_assessments.zip', index=False,\n",
    "          compression=compression_opts) "
   ]
  },
  {
   "cell_type": "code",
   "execution_count": null,
   "metadata": {},
   "outputs": [],
   "source": []
  }
 ],
 "metadata": {
  "kernelspec": {
   "display_name": "Python 3",
   "language": "python",
   "name": "python3"
  },
  "language_info": {
   "codemirror_mode": {
    "name": "ipython",
    "version": 3
   },
   "file_extension": ".py",
   "mimetype": "text/x-python",
   "name": "python",
   "nbconvert_exporter": "python",
   "pygments_lexer": "ipython3",
   "version": "3.8.3"
  }
 },
 "nbformat": 4,
 "nbformat_minor": 4
}
